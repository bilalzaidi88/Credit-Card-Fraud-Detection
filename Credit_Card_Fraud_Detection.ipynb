{
  "nbformat": 4,
  "nbformat_minor": 0,
  "metadata": {
    "colab": {
      "name": "Credit Card Fraud Detection.ipynb",
      "version": "0.3.2",
      "provenance": [],
      "include_colab_link": true
    },
    "kernelspec": {
      "name": "python3",
      "display_name": "Python 3"
    }
  },
  "cells": [
    {
      "cell_type": "markdown",
      "metadata": {
        "id": "view-in-github",
        "colab_type": "text"
      },
      "source": [
        "<a href=\"https://colab.research.google.com/github/bilalzaidi88/Credit-Card-Fraud-Detection/blob/master/Credit_Card_Fraud_Detection.ipynb\" target=\"_parent\"><img src=\"https://colab.research.google.com/assets/colab-badge.svg\" alt=\"Open In Colab\"/></a>"
      ]
    },
    {
      "cell_type": "code",
      "metadata": {
        "id": "BDvMV1kThBrm",
        "colab_type": "code",
        "colab": {}
      },
      "source": [
        "import os\n",
        "import time\n",
        "import random\n",
        "import datetime\n",
        "\n",
        "import numpy as np \n",
        "import pandas as pd\n",
        "import xgboost as xgb\n",
        "import lightgbm as lgb\n",
        "\n",
        "import seaborn as sns\n",
        "import matplotlib.pyplot as plt\n",
        "\n",
        "from sklearn.linear_model import LinearRegression\n",
        "from sklearn import preprocessing\n",
        "from sklearn import decomposition\n",
        "from sklearn import model_selection"
      ],
      "execution_count": 0,
      "outputs": []
    },
    {
      "cell_type": "code",
      "metadata": {
        "id": "9e9qf_Gu7hKb",
        "colab_type": "code",
        "colab": {}
      },
      "source": [
        "# load data\n",
        "# datapath = '/kaggle/input'\n",
        "trainid_df = pd.read_csv('train_identity.csv')\n",
        "traintx_df = pd.read_csv('train_transaction.csv')\n",
        "testid_df = pd.read_csv('test_identity.csv')\n",
        "testtx_df = pd.read_csv('test_transaction.csv')\n",
        "submit_df = pd.read_csv('sample_submission.csv')\n",
        "\n",
        "# TODO: train_identity = pd.read_csv(f'{folder_path}train_identity.csv', dtype={'TransactionAmt': str})"
      ],
      "execution_count": 0,
      "outputs": []
    },
    {
      "cell_type": "code",
      "metadata": {
        "id": "aBs9xA0o7k-B",
        "colab_type": "code",
        "colab": {
          "base_uri": "https://localhost:8080/",
          "height": 489
        },
        "outputId": "4f174fdc-d732-4bc7-fdeb-9ef636b70b6a"
      },
      "source": [
        "# merge dfs\n",
        "train_df = traintx_df.merge(trainid_df, how='left', left_index=True, right_index=True)\n",
        "test_df = testtx_df.merge(testid_df, how='left', left_index=True, right_index=True)\n",
        "\n",
        "x = train_df['isFraud'].value_counts().values\n",
        "sns.barplot([0,1],x)\n",
        "plt.title('Target variable count')\n",
        "\n",
        "# unload raw csvs from the memory\n",
        "del trainid_df\n",
        "del traintx_df\n",
        "del testid_df\n",
        "del testtx_df\n",
        "\n",
        "print(train_df.info())\n",
        "print(test_df.info())"
      ],
      "execution_count": 3,
      "outputs": [
        {
          "output_type": "stream",
          "text": [
            "<class 'pandas.core.frame.DataFrame'>\n",
            "RangeIndex: 81704 entries, 0 to 81703\n",
            "Columns: 435 entries, TransactionID_x to DeviceInfo\n",
            "dtypes: float64(399), int64(5), object(31)\n",
            "memory usage: 271.2+ MB\n",
            "None\n",
            "<class 'pandas.core.frame.DataFrame'>\n",
            "RangeIndex: 80639 entries, 0 to 80638\n",
            "Columns: 434 entries, TransactionID_x to DeviceInfo\n",
            "dtypes: float64(399), int64(4), object(31)\n",
            "memory usage: 267.0+ MB\n",
            "None\n"
          ],
          "name": "stdout"
        },
        {
          "output_type": "display_data",
          "data": {
            "image/png": "[encoded data removed]",
            "text/plain": [
              "<Figure size 432x288 with 1 Axes>"
            ]
          },
          "metadata": {
            "tags": []
          }
        }
      ]
    },
    {
      "cell_type": "code",
      "metadata": {
        "id": "JwOTOogD7pvD",
        "colab_type": "code",
        "colab": {}
      },
      "source": [
        "# remove columns with a high proportion of null values\n",
        "nb_rows = train_df.shape[0]\n",
        "cols_to_remove = []\n",
        "for col in train_df.columns:\n",
        "    if train_df[col].isna().sum()/nb_rows >= .9:\n",
        "        cols_to_remove.append(col)\n",
        "\n",
        "train_df.drop(cols_to_remove, axis=1, inplace=True)\n",
        "test_df.drop(cols_to_remove, axis=1, inplace=True)"
      ],
      "execution_count": 0,
      "outputs": []
    },
    {
      "cell_type": "code",
      "metadata": {
        "id": "GbW-f1sI7rkz",
        "colab_type": "code",
        "colab": {}
      },
      "source": [
        "cat_cols = [\n",
        "    'id_12', 'id_13', 'id_14', 'id_15', 'id_16', 'id_17', 'id_18', 'id_19',\n",
        "    'id_20', 'id_21', 'id_22', 'id_23', 'id_24', 'id_25', 'id_26', 'id_27',\n",
        "    'id_28', 'id_29', 'id_30', 'id_31', 'id_32', 'id_33', 'id_34', 'id_35',\n",
        "    'id_36', 'id_37', 'id_38', 'DeviceType', 'DeviceInfo', 'ProductCD', \n",
        "    'card4', 'card6', 'P_emaildomain', 'R_emaildomain', \n",
        "    'card1', 'card2', 'card3',  'card5', 'addr1', 'addr2', \n",
        "    'M1', 'M2', 'M3', 'M4', 'M5', 'M6', 'M7', 'M8', 'M9']\n",
        "for col in cat_cols:\n",
        "    if col in train_df.columns:\n",
        "        le = preprocessing.LabelEncoder()\n",
        "        le.fit(list(train_df[col].astype(str).values) + list(test_df[col].astype(str).values))\n",
        "        train_df[col] = le.transform(list(train_df[col].astype(str).values))\n",
        "        test_df[col] = le.transform(list(test_df[col].astype(str).values))"
      ],
      "execution_count": 0,
      "outputs": []
    },
    {
      "cell_type": "code",
      "metadata": {
        "id": "7Qequx_N7tzM",
        "colab_type": "code",
        "colab": {}
      },
      "source": [
        "X = train_df.drop(['isFraud', 'TransactionID_x'], axis=1)\n",
        "y = train_df['isFraud']\n",
        "\n",
        "test_df.drop(['TransactionID_x'], axis=1, inplace=True)"
      ],
      "execution_count": 0,
      "outputs": []
    },
    {
      "cell_type": "code",
      "metadata": {
        "id": "70-Q0EAB7vyB",
        "colab_type": "code",
        "colab": {
          "base_uri": "https://localhost:8080/",
          "height": 35
        },
        "outputId": "3977e8f1-2859-4fce-ce02-a458990dca82"
      },
      "source": [
        "type(X)"
      ],
      "execution_count": 7,
      "outputs": [
        {
          "output_type": "execute_result",
          "data": {
            "text/plain": [
              "pandas.core.frame.DataFrame"
            ]
          },
          "metadata": {
            "tags": []
          },
          "execution_count": 7
        }
      ]
    },
    {
      "cell_type": "code",
      "metadata": {
        "id": "IFo1W0uN7xtm",
        "colab_type": "code",
        "colab": {}
      },
      "source": [
        "from sklearn.impute import SimpleImputer\n",
        "\n",
        "my_imputer = SimpleImputer()\n",
        "X = my_imputer.fit_transform(X)\n",
        "test_df = my_imputer.transform(test_df)\n",
        "\n",
        "del train_df"
      ],
      "execution_count": 0,
      "outputs": []
    },
    {
      "cell_type": "code",
      "metadata": {
        "id": "bwidCrA77zLZ",
        "colab_type": "code",
        "colab": {
          "base_uri": "https://localhost:8080/",
          "height": 35
        },
        "outputId": "10d3b24e-52a3-48d8-addd-1181b8b9e34f"
      },
      "source": [
        "type(X)"
      ],
      "execution_count": 9,
      "outputs": [
        {
          "output_type": "execute_result",
          "data": {
            "text/plain": [
              "numpy.ndarray"
            ]
          },
          "metadata": {
            "tags": []
          },
          "execution_count": 9
        }
      ]
    },
    {
      "cell_type": "code",
      "metadata": {
        "id": "tEJbKmm_71C6",
        "colab_type": "code",
        "colab": {
          "base_uri": "https://localhost:8080/",
          "height": 72
        },
        "outputId": "b54a122d-fbb7-4c7f-9ad9-5f7668758e6e"
      },
      "source": [
        "# tackling the data imbalance\n",
        "from imblearn.over_sampling import SMOTE\n",
        "\n",
        "smote = SMOTE(ratio='minority')\n",
        "X, y = smote.fit_sample(X, y)"
      ],
      "execution_count": 10,
      "outputs": [
        {
          "output_type": "stream",
          "text": [
            "/usr/local/lib/python3.6/dist-packages/sklearn/externals/six.py:31: DeprecationWarning: The module is deprecated in version 0.21 and will be removed in version 0.23 since we've dropped support for Python 2.7. Please rely on the official version of six (https://pypi.org/project/six/).\n",
            "  \"(https://pypi.org/project/six/).\", DeprecationWarning)\n"
          ],
          "name": "stderr"
        }
      ]
    },
    {
      "cell_type": "code",
      "metadata": {
        "id": "P9OItgGs720S",
        "colab_type": "code",
        "colab": {
          "base_uri": "https://localhost:8080/",
          "height": 35
        },
        "outputId": "f122858f-9727-476e-b5bc-cf6ab506766a"
      },
      "source": [
        "X.shape"
      ],
      "execution_count": 11,
      "outputs": [
        {
          "output_type": "execute_result",
          "data": {
            "text/plain": [
              "(159020, 420)"
            ]
          },
          "metadata": {
            "tags": []
          },
          "execution_count": 11
        }
      ]
    },
    {
      "cell_type": "code",
      "metadata": {
        "id": "NC6EFmiy74BT",
        "colab_type": "code",
        "colab": {
          "base_uri": "https://localhost:8080/",
          "height": 589
        },
        "outputId": "e3170a89-34ba-4cc0-e201-457091146cc3"
      },
      "source": [
        "params = {'num_leaves': 491,\n",
        "          'min_child_weight': 0.03454472573214212,\n",
        "          'feature_fraction': 0.3797454081646243,\n",
        "          'bagging_fraction': 0.4181193142567742,\n",
        "          'min_data_in_leaf': 106,\n",
        "          'objective': 'binary',\n",
        "          'max_depth': -1,\n",
        "          'learning_rate': 0.006883242363721497,\n",
        "          \"boosting_type\": \"gbdt\",\n",
        "          \"bagging_seed\": 11,\n",
        "          \"metric\": 'auc',\n",
        "          \"verbosity\": -1,\n",
        "          'reg_alpha': 0.3899927210061127,\n",
        "          'reg_lambda': 0.6485237330340494,\n",
        "          'random_state': 47\n",
        "         }\n",
        "\n",
        "folds = model_selection.TimeSeriesSplit(n_splits=5)\n",
        "\n",
        "aucs = list()\n",
        "training_start_time = time.time()\n",
        "for fold, (trn_idx, test_idx) in enumerate(folds.split(X, y)):\n",
        "    start_time = time.time()\n",
        "    print('Training on fold {}'.format(fold + 1))\n",
        "    \n",
        "    #trn_data = lgb.Dataset(X.iloc[trn_idx], label=y.iloc[trn_idx])\n",
        "    #val_data = lgb.Dataset(X.iloc[test_idx], label=y.iloc[test_idx])\n",
        "    trn_data = lgb.Dataset(X[trn_idx], label=y[trn_idx])\n",
        "    val_data = lgb.Dataset(X[test_idx], label=y[test_idx])\n",
        "    clf = lgb.train(params, trn_data, 10000, valid_sets = [trn_data, val_data], verbose_eval=1000, early_stopping_rounds=500)\n",
        "    \n",
        "    aucs.append(clf.best_score['valid_1']['auc'])\n",
        "    \n",
        "    print('Fold {} finished in {}'.format(fold + 1, str(datetime.timedelta(seconds=time.time() - start_time))))\n",
        "print('-' * 30)\n",
        "print('Training has finished.')\n",
        "print('Total training time is {}'.format(str(datetime.timedelta(seconds=time.time() - training_start_time))))\n",
        "print('Mean AUC:', np.mean(aucs))\n",
        "print('-' * 30)"
      ],
      "execution_count": 12,
      "outputs": [
        {
          "output_type": "stream",
          "text": [
            "Training on fold 1\n",
            "Training until validation scores don't improve for 500 rounds.\n",
            "[1000]\ttraining's auc: 0.999998\tvalid_1's auc: 0.893974\n",
            "Early stopping, best iteration is:\n",
            "[1231]\ttraining's auc: 1\tvalid_1's auc: 0.894762\n",
            "Fold 1 finished in 0:01:09.409698\n",
            "Training on fold 2\n",
            "Training until validation scores don't improve for 500 rounds.\n",
            "[1000]\ttraining's auc: 0.999997\tvalid_1's auc: 0.910833\n",
            "Early stopping, best iteration is:\n",
            "[679]\ttraining's auc: 0.999695\tvalid_1's auc: 0.91138\n",
            "Fold 2 finished in 0:01:41.412380\n",
            "Training on fold 3\n",
            "Training until validation scores don't improve for 500 rounds.\n",
            "[1000]\ttraining's auc: 0.999996\tvalid_1's auc: 0.966341\n",
            "Early stopping, best iteration is:\n",
            "[1359]\ttraining's auc: 1\tvalid_1's auc: 0.968279\n",
            "Fold 3 finished in 0:03:56.178322\n",
            "Training on fold 4\n",
            "Training until validation scores don't improve for 500 rounds.\n",
            "Early stopping, best iteration is:\n",
            "[1]\ttraining's auc: 0.98172\tvalid_1's auc: 1\n",
            "Fold 4 finished in 0:02:04.684942\n",
            "Training on fold 5\n",
            "Training until validation scores don't improve for 500 rounds.\n",
            "Early stopping, best iteration is:\n",
            "[1]\ttraining's auc: 0.989019\tvalid_1's auc: 1\n",
            "Fold 5 finished in 0:02:35.839521\n",
            "------------------------------\n",
            "Training has finished.\n",
            "Total training time is 0:11:27.528903\n",
            "Mean AUC: 0.9548842354478285\n",
            "------------------------------\n"
          ],
          "name": "stdout"
        }
      ]
    },
    {
      "cell_type": "code",
      "metadata": {
        "id": "sDWY8O-Q77XQ",
        "colab_type": "code",
        "colab": {}
      },
      "source": [
        "best_iter = clf.best_iteration"
      ],
      "execution_count": 0,
      "outputs": []
    },
    {
      "cell_type": "code",
      "metadata": {
        "id": "QHYEt99o79qg",
        "colab_type": "code",
        "colab": {
          "base_uri": "https://localhost:8080/",
          "height": 245
        },
        "outputId": "a5aef845-b90b-4fda-fe70-fa47bf8bba84"
      },
      "source": [
        "clf = lgb.LGBMClassifier(**params, num_boost_round=best_iter)\n",
        "clf.fit(X, y)"
      ],
      "execution_count": 14,
      "outputs": [
        {
          "output_type": "stream",
          "text": [
            "/usr/local/lib/python3.6/dist-packages/lightgbm/engine.py:118: UserWarning: Found `num_boost_round` in params. Will use it instead of argument\n",
            "  warnings.warn(\"Found `{}` in params. Will use it instead of argument\".format(alias))\n"
          ],
          "name": "stderr"
        },
        {
          "output_type": "execute_result",
          "data": {
            "text/plain": [
              "LGBMClassifier(bagging_fraction=0.4181193142567742, bagging_seed=11,\n",
              "               boosting_type='gbdt', class_weight=None, colsample_bytree=1.0,\n",
              "               feature_fraction=0.3797454081646243, importance_type='split',\n",
              "               learning_rate=0.006883242363721497, max_depth=-1, metric='auc',\n",
              "               min_child_samples=20, min_child_weight=0.03454472573214212,\n",
              "               min_data_in_leaf=106, min_split_gain=0.0, n_estimators=100,\n",
              "               n_jobs=-1, num_boost_round=1, num_leaves=491, objective='binary',\n",
              "               random_state=47, reg_alpha=0.3899927210061127,\n",
              "               reg_lambda=0.6485237330340494, silent=True, subsample=1.0,\n",
              "               subsample_for_bin=200000, subsample_freq=0, verbosity=-1)"
            ]
          },
          "metadata": {
            "tags": []
          },
          "execution_count": 14
        }
      ]
    },
    {
      "cell_type": "code",
      "metadata": {
        "id": "vBAhVDXl7_Qy",
        "colab_type": "code",
        "colab": {}
      },
      "source": [
        "submit_df['isFraud'] = clf.predict_proba(test_df)[:, 1]\n",
        "submit_df.to_csv('Submission_Bilal.csv', index=False)"
      ],
      "execution_count": 0,
      "outputs": []
    }
  ]
}